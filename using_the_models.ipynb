{
 "cells": [
  {
   "cell_type": "markdown",
   "source": [
    "Using my models! I'm going to provide two options for trying out each model. If you have GPU access, you can use the first option. If you don't, you can use the second option. The first option will be faster, but the second option will still work. I'll provide instructions for both."
   ],
   "metadata": {
    "collapsed": false
   }
  },
  {
   "cell_type": "markdown",
   "source": [
    "Git Diff Cleaner: First I clean a diff using this code block (put your diff into the mydiff variable and keep it under 2000 characters)"
   ],
   "metadata": {
    "collapsed": false
   }
  },
  {
   "cell_type": "code",
   "execution_count": null,
   "outputs": [],
   "source": [
    "def extract_added_lines(diff, max_length=2000):\n",
    "    added_lines = []\n",
    "    for line in diff.split('\\n'):\n",
    "        if line.startswith('+') and not line.startswith('+++'):\n",
    "            added_line = line[1:]  # Remove the '+' sign\n",
    "            if sum(len(l) + 1 for l in added_lines) + len(added_line) <= max_length:\n",
    "                added_lines.append(added_line)\n",
    "            else:\n",
    "                return None\n",
    "                break\n",
    "    return '\\n'.join(added_lines)"
   ],
   "metadata": {
    "collapsed": false
   }
  },
  {
   "cell_type": "code",
   "execution_count": null,
   "outputs": [],
   "source": [
    "mydiff = \"\"\"\n",
    "<your diff here>\n",
    "\"\"\""
   ],
   "metadata": {
    "collapsed": false
   }
  },
  {
   "cell_type": "code",
   "execution_count": null,
   "outputs": [],
   "source": [
    "clean_diff = extract_added_lines(mydiff)"
   ],
   "metadata": {
    "collapsed": false
   }
  },
  {
   "cell_type": "markdown",
   "source": [
    "Now this is the classifier model! Run the first block if you are on colab or have a GPU. Run the second block if you are on your own computer."
   ],
   "metadata": {
    "collapsed": false
   }
  },
  {
   "cell_type": "code",
   "execution_count": null,
   "outputs": [],
   "source": [
    "#If you have GPU access, this cell is for you! (Maybe you can try it on Google Colab)\n",
    "!pip install transformers\n",
    "from transformers import pipeline\n",
    "\n",
    "pipe = pipeline(\"text-classification\", model=\"davidgaofc/TechDebtClassifier\")\n",
    "\n",
    "result = pipe(clean_diff)\n",
    "\n",
    "result"
   ],
   "metadata": {
    "collapsed": false
   }
  },
  {
   "cell_type": "code",
   "execution_count": null,
   "outputs": [],
   "source": [
    "#If you are trying to inference on your own computer, this cell is for you! You will need an api key from huggingface with read access to the model.\n",
    "import requests\n",
    "API_KEY = \"put your huggingface api_key here\"\n",
    "API_URL = \"https://api-inference.huggingface.co/models/davidgaofc/TechDebtClassifier\"\n",
    "headers = {\"Authorization\": f\"Bearer {API_KEY}\"}\n",
    "data = {\"inputs\": clean_diff}\n",
    "\n",
    "response = requests.post(API_URL, headers=headers, json=data)\n",
    "result = response.json()\n",
    "result"
   ],
   "metadata": {
    "collapsed": false
   }
  },
  {
   "cell_type": "markdown",
   "source": [
    "Now you have classified the code! LABEL_1 means that the code is technical debt, and LABEL_0 means that the code is not technical debt."
   ],
   "metadata": {
    "collapsed": false
   }
  },
  {
   "cell_type": "markdown",
   "source": [
    "If it has a LABEL_1 score higher than 0.5, maybe you want to generate text that describes it using the second model."
   ],
   "metadata": {
    "collapsed": false
   }
  },
  {
   "cell_type": "code",
   "execution_count": null,
   "outputs": [],
   "source": [
    "#If you have GPU access, this cell is for you! (Maybe you can try it on Google Colab)\n",
    "from transformers import pipeline\n",
    "\n",
    "pipe = pipeline(\"text2text-generation\", model=\"davidgaofc/TechDebtLabeler\")\n",
    "\n",
    "result = pipe(clean_diff)\n",
    "\n",
    "result"
   ],
   "metadata": {
    "collapsed": false
   }
  },
  {
   "cell_type": "code",
   "execution_count": null,
   "outputs": [],
   "source": [
    "#If you are trying to inference on your own computer, this cell is for you!\n",
    "API_URL = \"https://api-inference.huggingface.co/models/davidgaofc/TechDebtLabeler\"\n",
    "headers = {\"Authorization\": f\"Bearer {API_KEY}\"}\n",
    "data = {\"inputs\": clean_diff}\n",
    "\n",
    "response = requests.post(API_URL, headers=headers, json=data)\n",
    "result = response.json()\n",
    "\n",
    "result"
   ],
   "metadata": {
    "collapsed": false
   }
  },
  {
   "cell_type": "markdown",
   "source": [
    "Great! Take these results with a grain of salt, of course. The models are still a work in progress. But I hope you find them cool!"
   ],
   "metadata": {
    "collapsed": false
   }
  }
 ],
 "metadata": {
  "kernelspec": {
   "display_name": "Python 3",
   "language": "python",
   "name": "python3"
  },
  "language_info": {
   "codemirror_mode": {
    "name": "ipython",
    "version": 2
   },
   "file_extension": ".py",
   "mimetype": "text/x-python",
   "name": "python",
   "nbconvert_exporter": "python",
   "pygments_lexer": "ipython2",
   "version": "2.7.6"
  }
 },
 "nbformat": 4,
 "nbformat_minor": 0
}
